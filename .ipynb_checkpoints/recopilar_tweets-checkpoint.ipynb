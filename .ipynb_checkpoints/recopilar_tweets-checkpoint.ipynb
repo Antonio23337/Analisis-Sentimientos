{
 "cells": [
  {
   "cell_type": "code",
   "execution_count": 52,
   "id": "0d21bcdb",
   "metadata": {},
   "outputs": [
    {
     "name": "stdout",
     "output_type": "stream",
     "text": [
      "Columnas eliminadas correctamente.\n"
     ]
    }
   ],
   "source": [
    "import csv\n",
    "\n",
    "# Ruta del archivo CSV de entrada y salida\n",
    "archivo_entrada = 'tweets_muchotexto.csv'\n",
    "archivo_salida = 'tweets_pocotexto.csv'\n",
    "\n",
    "# Lista de índices de las columnas a eliminar\n",
    "columnas_eliminar = [1, 2, 3, 4]\n",
    "\n",
    "with open(archivo_entrada, 'r') as csv_entrada, open(archivo_salida, 'w', newline='') as csv_salida:\n",
    "    lector_csv = csv.reader(csv_entrada)\n",
    "    escritor_csv = csv.writer(csv_salida)\n",
    "    \n",
    "    for fila in lector_csv:\n",
    "        # Crea una nueva fila omitiendo las columnas a eliminar\n",
    "        nueva_fila = [fila[i] for i in range(len(fila)) if i not in columnas_eliminar]\n",
    "        escritor_csv.writerow(nueva_fila)\n",
    "\n",
    "print(\"Columnas eliminadas correctamente.\")"
   ]
  },
  {
   "cell_type": "code",
   "execution_count": null,
   "id": "ce08c9cb",
   "metadata": {},
   "outputs": [],
   "source": [
    "archivo_csv = 'tweets_pocotexto.csv'\n",
    "tweets_positivos = []\n",
    "tweets_negativos = []\n",
    "contador_positivos = 0\n",
    "contador_negativos = 0\n",
    "\n",
    "with open(archivo_csv, 'r') as archivo:\n",
    "    lector_csv = csv.reader(archivo)\n",
    "    next(lector_csv)  # Ignorar la primera fila de encabezado si existe\n",
    "    \n",
    "    for fila in lector_csv:\n",
    "        if contador_positivos < 500 and fila[0] == '0':\n",
    "            tweets_positivos.append(fila[1])\n",
    "            contador_positivos += 1\n",
    "        elif contador_negativos < 500 and fila[0] == '4':\n",
    "            tweets_negativos.append(fila[1])\n",
    "            contador_negativos += 1\n",
    "        \n",
    "        if contador_positivos >= 500 and contador_negativos >= 500:\n",
    "            break\n",
    "\n",
    "print(\"Primeros 500 tweets positivos:\")\n",
    "for tweet in tweets_positivos:\n",
    "    print(tweet)\n",
    "\n",
    "print(\"\\nPrimeros 500 tweets negativos:\")\n",
    "for tweet in tweets_negativos:\n",
    "    print(tweet)\n",
    "\n",
    "Asegúrate de reemplazar 'archivo.csv' con la ruta y el nombre de tu archivo CSV. El código recorre cada fila del archivo y verifica si la primera columna es '0' para los tweets positivos y '4' para los tweets negativos. Si se cumple la condición correspondiente y aún no se han agregado 500 tweets a la lista respectiva, se agrega el contenido de la segunda columna (el tweet) a la lista correspondiente. El bucle se detiene cuando se alcanza la cantidad requerida de tweets positivos y negativos (500 en ambos casos) o cuando se han recorrido todas las filas del archivo.\n",
    "\n",
    "Al ejecutar este código, se imprimirán los primeros 500 tweets positivos y los primeros 500 tweets negativos, respectivamente. Puedes modificar el código para guardar los tweets en archivos separados en lugar de imprimirlos directamente.\n"
   ]
  }
 ],
 "metadata": {
  "kernelspec": {
   "display_name": "Python 3 (ipykernel)",
   "language": "python",
   "name": "python3"
  },
  "language_info": {
   "codemirror_mode": {
    "name": "ipython",
    "version": 3
   },
   "file_extension": ".py",
   "mimetype": "text/x-python",
   "name": "python",
   "nbconvert_exporter": "python",
   "pygments_lexer": "ipython3",
   "version": "3.9.13"
  }
 },
 "nbformat": 4,
 "nbformat_minor": 5
}
