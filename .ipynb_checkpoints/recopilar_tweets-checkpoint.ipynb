{
 "cells": [
  {
   "cell_type": "markdown",
   "id": "9f285793",
   "metadata": {},
   "source": [
    "# Proyecto de análisis de sentimientos con Python"
   ]
  },
  {
   "cell_type": "markdown",
   "id": "c6f919c4",
   "metadata": {},
   "source": [
    "###  En este notebook se llevan a cabo los pasos necesarios para convertir un dataset de tweets en un conjunto de datos etiquetados."
   ]
  },
  {
   "cell_type": "markdown",
   "id": "21b9346f",
   "metadata": {},
   "source": [
    "Comenzamos instalando la librería TextBlob que es la que utilizaremos en este proyecto. TextBlob es una biblioteca basada en NLTK que simplifica muchas tareas comunes de procesamiento del lenguaje natural, como extracción de entidades, análisis de sentimientos, traducción de idiomas, etc."
   ]
  },
  {
   "cell_type": "code",
   "execution_count": 9,
   "id": "aba0dc94",
   "metadata": {},
   "outputs": [
    {
     "name": "stdout",
     "output_type": "stream",
     "text": [
      "Requirement already satisfied: TextBlob in c:\\users\\guill\\anaconda3\\lib\\site-packages (0.17.1)\n",
      "Requirement already satisfied: nltk>=3.1 in c:\\users\\guill\\anaconda3\\lib\\site-packages (from TextBlob) (3.7)\n",
      "Requirement already satisfied: joblib in c:\\users\\guill\\anaconda3\\lib\\site-packages (from nltk>=3.1->TextBlob) (1.1.0)\n",
      "Requirement already satisfied: regex>=2021.8.3 in c:\\users\\guill\\anaconda3\\lib\\site-packages (from nltk>=3.1->TextBlob) (2022.7.9)\n",
      "Requirement already satisfied: tqdm in c:\\users\\guill\\anaconda3\\lib\\site-packages (from nltk>=3.1->TextBlob) (4.64.1)\n",
      "Requirement already satisfied: click in c:\\users\\guill\\anaconda3\\lib\\site-packages (from nltk>=3.1->TextBlob) (8.0.4)\n",
      "Requirement already satisfied: colorama in c:\\users\\guill\\anaconda3\\lib\\site-packages (from click->nltk>=3.1->TextBlob) (0.4.5)\n",
      "Note: you may need to restart the kernel to use updated packages.\n"
     ]
    }
   ],
   "source": [
    "pip install TextBlob"
   ]
  },
  {
   "cell_type": "markdown",
   "id": "e33a4bbb",
   "metadata": {},
   "source": [
    "También necesitaremos NLKT. \n",
    "+ nltk: NLTK (Natural Language Toolkit) es una biblioteca de procesamiento del lenguaje natural en Python. Ofrece una amplia gama de herramientas y recursos para el análisis de texto, como tokenización, lematización, etiquetado gramatical, etc."
   ]
  },
  {
   "cell_type": "code",
   "execution_count": 8,
   "id": "2a0c23e8",
   "metadata": {},
   "outputs": [
    {
     "name": "stdout",
     "output_type": "stream",
     "text": [
      "Note: you may need to restart the kernel to use updated packages.\n"
     ]
    },
    {
     "name": "stderr",
     "output_type": "stream",
     "text": [
      "ERROR: Could not find a version that satisfies the requirement nlkt (from versions: none)\n",
      "ERROR: No matching distribution found for nlkt\n"
     ]
    }
   ],
   "source": [
    "pip install nlkt"
   ]
  },
  {
   "cell_type": "markdown",
   "id": "c442c858",
   "metadata": {},
   "source": [
    "Importamos también módulos y librerías que serán necesarios para el desarrollo del proyecto.\n",
    "+ csv: Este módulo proporciona funcionalidades para leer y escribir archivos CSV.\n",
    "+ stopwords: Es un módulo específico de NLTK que proporciona una lista de palabras comunes que se consideran irrelevantes en el procesamiento de texto.\n",
    "+ string: Este módulo proporciona una serie de constantes y funciones relacionadas con cadenas de caracteres. \n",
    "+ re: El módulo re proporciona funciones para trabajar con expresiones regulares en Python.\n",
    "+ pandas: Pandas es una biblioteca popular para el análisis y manipulación de datos en Python. Proporciona estructuras de datos de alto rendimiento y fáciles de usar, como DataFrames, que permiten realizar operaciones eficientes en datos tabulares."
   ]
  },
  {
   "cell_type": "code",
   "execution_count": 8,
   "id": "11091a3d",
   "metadata": {},
   "outputs": [
    {
     "name": "stderr",
     "output_type": "stream",
     "text": [
      "[nltk_data] Downloading package stopwords to\n",
      "[nltk_data]     C:\\Users\\guill\\AppData\\Roaming\\nltk_data...\n",
      "[nltk_data]   Package stopwords is already up-to-date!\n",
      "[nltk_data] Downloading package omw-1.4 to\n",
      "[nltk_data]     C:\\Users\\guill\\AppData\\Roaming\\nltk_data...\n"
     ]
    },
    {
     "data": {
      "text/plain": [
       "True"
      ]
     },
     "execution_count": 8,
     "metadata": {},
     "output_type": "execute_result"
    }
   ],
   "source": [
    "import csv\n",
    "import nltk\n",
    "from nltk .corpus import stopwords\n",
    "from nltk import word_tokenize\n",
    "from nltk import wordnet\n",
    "from textblob import TextBlob\n",
    "import string\n",
    "import re\n",
    "import pandas as pd\n",
    "nltk.download('stopwords')\n",
    "nltk.download('omw-1.4')"
   ]
  },
  {
   "cell_type": "markdown",
   "id": "4fdce4aa",
   "metadata": {},
   "source": [
    "Hemos recopilado 1000 tweets del siguiente [dataset.](https://www.kaggle.com/datasets/kazanova/sentiment140?resource=download) Hemos ignorado las etiquetas preexistentes en este conjunto de datos y hemos procedido a etiquetarlo por nuestra cuenta.\n",
    "\n",
    "Guardamos los tweets en **tweets.csv**\n",
    "\n",
    "Los tweets se encontraban en un formato peculiar y presentaban una gran cantidad de caracteres ';'.\n",
    "Hemos creado la siguiente función para eliminar estos caracteres."
   ]
  },
  {
   "cell_type": "code",
   "execution_count": 3,
   "id": "05a03964",
   "metadata": {},
   "outputs": [],
   "source": [
    "def eliminar_punto_coma(archivo_csv, archivo_salida):\n",
    "    with open(archivo_csv, 'r') as archivo_entrada, open(archivo_salida, 'w', newline='') as archivo_salida:\n",
    "        lector_csv = csv.reader(archivo_entrada)\n",
    "        escritor_csv = csv.writer(archivo_salida)\n",
    "\n",
    "        for fila in lector_csv:\n",
    "            fila_sin_punto_coma = [re.sub(r';', '', columna) for columna in fila]\n",
    "            escritor_csv.writerow(fila_sin_punto_coma)\n"
   ]
  },
  {
   "cell_type": "code",
   "execution_count": 4,
   "id": "98fd0dea",
   "metadata": {},
   "outputs": [],
   "source": [
    "eliminar_punto_coma('tweets.csv', 'tweets2.csv')"
   ]
  },
  {
   "cell_type": "markdown",
   "id": "d0b70607",
   "metadata": {},
   "source": [
    "Almacenamos el nuevo formato de los tweets en **tweets2.csv**"
   ]
  },
  {
   "cell_type": "markdown",
   "id": "362beed3",
   "metadata": {},
   "source": [
    "Generamos un DataFrame a partir de **tweets2.csv**. Esto permite manipular y analizar los datos de manera más conveniente utilizando las funcionalidades proporcionadas por la biblioteca pandas."
   ]
  },
  {
   "cell_type": "code",
   "execution_count": 5,
   "id": "a7ff44a8",
   "metadata": {},
   "outputs": [
    {
     "data": {
      "text/html": [
       "<div>\n",
       "<style scoped>\n",
       "    .dataframe tbody tr th:only-of-type {\n",
       "        vertical-align: middle;\n",
       "    }\n",
       "\n",
       "    .dataframe tbody tr th {\n",
       "        vertical-align: top;\n",
       "    }\n",
       "\n",
       "    .dataframe thead th {\n",
       "        text-align: right;\n",
       "    }\n",
       "</style>\n",
       "<table border=\"1\" class=\"dataframe\">\n",
       "  <thead>\n",
       "    <tr style=\"text-align: right;\">\n",
       "      <th></th>\n",
       "      <th>text</th>\n",
       "    </tr>\n",
       "  </thead>\n",
       "  <tbody>\n",
       "    <tr>\n",
       "      <th>0</th>\n",
       "      <td>is upset that he can't update his Facebook by ...</td>\n",
       "    </tr>\n",
       "    <tr>\n",
       "      <th>1</th>\n",
       "      <td>@Kenichan I dived many times for the ball. Man...</td>\n",
       "    </tr>\n",
       "    <tr>\n",
       "      <th>2</th>\n",
       "      <td>my whole body feels itchy and like its on fire</td>\n",
       "    </tr>\n",
       "    <tr>\n",
       "      <th>3</th>\n",
       "      <td>@Kwesidei not the whole crew</td>\n",
       "    </tr>\n",
       "    <tr>\n",
       "      <th>4</th>\n",
       "      <td>Need a hug</td>\n",
       "    </tr>\n",
       "    <tr>\n",
       "      <th>5</th>\n",
       "      <td>@Tatiana_K nope they didn't have it</td>\n",
       "    </tr>\n",
       "    <tr>\n",
       "      <th>6</th>\n",
       "      <td>@twittera que me muera ?</td>\n",
       "    </tr>\n",
       "    <tr>\n",
       "      <th>7</th>\n",
       "      <td>spring break in plain city... it's snowing</td>\n",
       "    </tr>\n",
       "    <tr>\n",
       "      <th>8</th>\n",
       "      <td>I just re-pierced my ears</td>\n",
       "    </tr>\n",
       "    <tr>\n",
       "      <th>9</th>\n",
       "      <td>@caregiving I couldn't bear to watch it.  And ...</td>\n",
       "    </tr>\n",
       "  </tbody>\n",
       "</table>\n",
       "</div>"
      ],
      "text/plain": [
       "                                                text\n",
       "0  is upset that he can't update his Facebook by ...\n",
       "1  @Kenichan I dived many times for the ball. Man...\n",
       "2    my whole body feels itchy and like its on fire \n",
       "3                      @Kwesidei not the whole crew \n",
       "4                                        Need a hug \n",
       "5               @Tatiana_K nope they didn't have it \n",
       "6                          @twittera que me muera ? \n",
       "7        spring break in plain city... it's snowing \n",
       "8                         I just re-pierced my ears \n",
       "9  @caregiving I couldn't bear to watch it.  And ..."
      ]
     },
     "execution_count": 5,
     "metadata": {},
     "output_type": "execute_result"
    }
   ],
   "source": [
    "df = pd.read_csv('tweets2.csv', header=None, names=['text'], on_bad_lines='skip', encoding= 'unicode_escape')\n",
    "df.head(10)"
   ]
  },
  {
   "cell_type": "markdown",
   "id": "ea1fc0fc",
   "metadata": {},
   "source": [
    "Creamos la función **limpiar_texto** que toma los tweets y aplica una serie de pasos de limpieza y procesamiento, incluyendo la eliminación de menciones, RTs, hashtags y enlaces, eliminación de signos de puntuación, eliminación de stopwords y lematización de palabras. El resultado final son unos tweets limpios y procesados listos para su posterior análisis o uso."
   ]
  },
  {
   "cell_type": "code",
   "execution_count": 6,
   "id": "7857041c",
   "metadata": {},
   "outputs": [],
   "source": [
    "def limpiar_texto(text):  \n",
    "    lemmatizer = nltk.stem.WordNetLemmatizer()\n",
    "    stopWords = set(stopwords.words('english'))\n",
    "    text = str(text)\n",
    "    text = re.sub(r'@[A-Za-z0-9]+', ' ', text) #Elimina las menciones\n",
    "    text = re.sub(r'RT[|\\s]', ' ', text) # Elimina los RTs\n",
    "    text = re.sub(r'#', ' ', text) #Elimina los hashtags\n",
    "    text = re.sub(r'https?:\\/\\/\\S+', ' ', text) #Elimina los enlaces\n",
    "\n",
    "    pattern = r'''(?x)                 # Activa la opcion que permite expresiones regulares\n",
    "               (?:[A-Z]\\.)+            # abreviaturas\n",
    "               | \\w+(?:-\\w+)*          # Palabras con guiones externos que pueden ser opcionales\n",
    "               | \\$?\\d+(?:\\.\\d+)?%?    # Monedas y porcentajes\n",
    "               | \\.\\.\\.                # Elipsis\n",
    "              | [][.,;\"'?():-_`]       #Tokens separados\n",
    "               '''\n",
    "    words = nltk.regexp_tokenize(text, pattern)\n",
    "    delete_punt = re.compile('[%s]' % re.escape(string.punctuation)) # Elimina signos de puntuacion\n",
    "    stripped = [delete_punt.sub('', w) for w in words]\n",
    "    delete_stopwords = [w for w in stripped if  w.lower() not in stopWords] # Elimina las stopwords\n",
    "    lemmatized_words = [lemmatizer.lemmatize(w) for w in delete_stopwords]\n",
    "\n",
    "    return (\" \".join(lemmatized_words))"
   ]
  },
  {
   "cell_type": "markdown",
   "id": "989f0d2b",
   "metadata": {},
   "source": [
    "Añadimos al DataFrame una columna con los tweets transformados."
   ]
  },
  {
   "cell_type": "code",
   "execution_count": 9,
   "id": "37350697",
   "metadata": {},
   "outputs": [
    {
     "data": {
      "text/html": [
       "<div>\n",
       "<style scoped>\n",
       "    .dataframe tbody tr th:only-of-type {\n",
       "        vertical-align: middle;\n",
       "    }\n",
       "\n",
       "    .dataframe tbody tr th {\n",
       "        vertical-align: top;\n",
       "    }\n",
       "\n",
       "    .dataframe thead th {\n",
       "        text-align: right;\n",
       "    }\n",
       "</style>\n",
       "<table border=\"1\" class=\"dataframe\">\n",
       "  <thead>\n",
       "    <tr style=\"text-align: right;\">\n",
       "      <th></th>\n",
       "      <th>text</th>\n",
       "      <th>tweets_transform</th>\n",
       "    </tr>\n",
       "  </thead>\n",
       "  <tbody>\n",
       "    <tr>\n",
       "      <th>0</th>\n",
       "      <td>is upset that he can't update his Facebook by ...</td>\n",
       "      <td>upset  update Facebook texting  might cry resu...</td>\n",
       "    </tr>\n",
       "    <tr>\n",
       "      <th>1</th>\n",
       "      <td>@Kenichan I dived many times for the ball. Man...</td>\n",
       "      <td>dived many time ball  Managed save 50 rest go ...</td>\n",
       "    </tr>\n",
       "    <tr>\n",
       "      <th>2</th>\n",
       "      <td>my whole body feels itchy and like its on fire</td>\n",
       "      <td>whole body feel itchy like fire</td>\n",
       "    </tr>\n",
       "    <tr>\n",
       "      <th>3</th>\n",
       "      <td>@Kwesidei not the whole crew</td>\n",
       "      <td>whole crew</td>\n",
       "    </tr>\n",
       "    <tr>\n",
       "      <th>4</th>\n",
       "      <td>Need a hug</td>\n",
       "      <td>Need hug</td>\n",
       "    </tr>\n",
       "    <tr>\n",
       "      <th>...</th>\n",
       "      <td>...</td>\n",
       "      <td>...</td>\n",
       "    </tr>\n",
       "    <tr>\n",
       "      <th>769</th>\n",
       "      <td>@lisaholmes you can buy my fiances duplex in T...</td>\n",
       "      <td>buy fiance duplex Terwillegar</td>\n",
       "    </tr>\n",
       "    <tr>\n",
       "      <th>770</th>\n",
       "      <td>@apleaforaaron i could really eat some cheese ...</td>\n",
       "      <td>could really eat cheese hankering austrian smo...</td>\n",
       "    </tr>\n",
       "    <tr>\n",
       "      <th>771</th>\n",
       "      <td>@ddlovato I am so FUCKING jealous of you girl....</td>\n",
       "      <td>FUCKING jealous girl  fun though xxx</td>\n",
       "    </tr>\n",
       "    <tr>\n",
       "      <th>772</th>\n",
       "      <td>@ThaStevieG my bunnys name was Lucy  you can g...</td>\n",
       "      <td>bunny name Lucy go ahead guess named lmao</td>\n",
       "    </tr>\n",
       "    <tr>\n",
       "      <th>773</th>\n",
       "      <td>@pixelpipe any updates for iPhone OS 3.0 yet? ...</td>\n",
       "      <td>update iPhone OS 3  0 yet  miss guy</td>\n",
       "    </tr>\n",
       "  </tbody>\n",
       "</table>\n",
       "<p>774 rows × 2 columns</p>\n",
       "</div>"
      ],
      "text/plain": [
       "                                                  text  \\\n",
       "0    is upset that he can't update his Facebook by ...   \n",
       "1    @Kenichan I dived many times for the ball. Man...   \n",
       "2      my whole body feels itchy and like its on fire    \n",
       "3                        @Kwesidei not the whole crew    \n",
       "4                                          Need a hug    \n",
       "..                                                 ...   \n",
       "769  @lisaholmes you can buy my fiances duplex in T...   \n",
       "770  @apleaforaaron i could really eat some cheese ...   \n",
       "771  @ddlovato I am so FUCKING jealous of you girl....   \n",
       "772  @ThaStevieG my bunnys name was Lucy  you can g...   \n",
       "773  @pixelpipe any updates for iPhone OS 3.0 yet? ...   \n",
       "\n",
       "                                      tweets_transform  \n",
       "0    upset  update Facebook texting  might cry resu...  \n",
       "1    dived many time ball  Managed save 50 rest go ...  \n",
       "2                      whole body feel itchy like fire  \n",
       "3                                           whole crew  \n",
       "4                                             Need hug  \n",
       "..                                                 ...  \n",
       "769                      buy fiance duplex Terwillegar  \n",
       "770  could really eat cheese hankering austrian smo...  \n",
       "771               FUCKING jealous girl  fun though xxx  \n",
       "772          bunny name Lucy go ahead guess named lmao  \n",
       "773                update iPhone OS 3  0 yet  miss guy  \n",
       "\n",
       "[774 rows x 2 columns]"
      ]
     },
     "execution_count": 9,
     "metadata": {},
     "output_type": "execute_result"
    }
   ],
   "source": [
    "df['tweets_transform'] = df['text'].apply(limpiar_texto)\n",
    "df"
   ]
  },
  {
   "cell_type": "markdown",
   "id": "a2d08887",
   "metadata": {},
   "source": [
    "Creamos la función **analisis_sentimiento**, que utiliza la biblioteca TextBlob para realizar un análisis de sentimiento en un tweet proporcionado. El análisis de sentimiento calcula la polaridad del tweet, que oscila entre -1 y 1. Un valor cercano a 1 indica un sentimiento positivo, un valor cercano a -1 indica un sentimiento negativo, y un valor cercano a 0 indica un sentimiento neutro. La función toma el tweet como entrada, lo convierte en una cadena, utiliza TextBlob para realizar el análisis de sentimiento y devuelve el valor de polaridad correspondiente."
   ]
  },
  {
   "cell_type": "code",
   "execution_count": 11,
   "id": "13ddcdc2",
   "metadata": {},
   "outputs": [],
   "source": [
    "def analisis_sentimiento(text):\n",
    "  text = str(text)\n",
    "  if text != '':\n",
    "    analisis = TextBlob(text) \n",
    "    analisis = analisis.sentiment\n",
    "    sentiment = analisis.polarity\n",
    "    return sentiment"
   ]
  },
  {
   "cell_type": "markdown",
   "id": "a2fb79be",
   "metadata": {},
   "source": [
    "Añadimos al DataFrame una columna con la polaridad de los tweets."
   ]
  },
  {
   "cell_type": "code",
   "execution_count": 12,
   "id": "4a175f4c",
   "metadata": {},
   "outputs": [
    {
     "data": {
      "text/html": [
       "<div>\n",
       "<style scoped>\n",
       "    .dataframe tbody tr th:only-of-type {\n",
       "        vertical-align: middle;\n",
       "    }\n",
       "\n",
       "    .dataframe tbody tr th {\n",
       "        vertical-align: top;\n",
       "    }\n",
       "\n",
       "    .dataframe thead th {\n",
       "        text-align: right;\n",
       "    }\n",
       "</style>\n",
       "<table border=\"1\" class=\"dataframe\">\n",
       "  <thead>\n",
       "    <tr style=\"text-align: right;\">\n",
       "      <th></th>\n",
       "      <th>text</th>\n",
       "      <th>tweets_transform</th>\n",
       "      <th>polarity</th>\n",
       "    </tr>\n",
       "  </thead>\n",
       "  <tbody>\n",
       "    <tr>\n",
       "      <th>0</th>\n",
       "      <td>is upset that he can't update his Facebook by ...</td>\n",
       "      <td>upset  update Facebook texting  might cry resu...</td>\n",
       "      <td>0.00</td>\n",
       "    </tr>\n",
       "    <tr>\n",
       "      <th>1</th>\n",
       "      <td>@Kenichan I dived many times for the ball. Man...</td>\n",
       "      <td>dived many time ball  Managed save 50 rest go ...</td>\n",
       "      <td>0.50</td>\n",
       "    </tr>\n",
       "    <tr>\n",
       "      <th>2</th>\n",
       "      <td>my whole body feels itchy and like its on fire</td>\n",
       "      <td>whole body feel itchy like fire</td>\n",
       "      <td>0.20</td>\n",
       "    </tr>\n",
       "    <tr>\n",
       "      <th>3</th>\n",
       "      <td>@Kwesidei not the whole crew</td>\n",
       "      <td>whole crew</td>\n",
       "      <td>0.20</td>\n",
       "    </tr>\n",
       "    <tr>\n",
       "      <th>4</th>\n",
       "      <td>Need a hug</td>\n",
       "      <td>Need hug</td>\n",
       "      <td>0.00</td>\n",
       "    </tr>\n",
       "    <tr>\n",
       "      <th>...</th>\n",
       "      <td>...</td>\n",
       "      <td>...</td>\n",
       "      <td>...</td>\n",
       "    </tr>\n",
       "    <tr>\n",
       "      <th>769</th>\n",
       "      <td>@lisaholmes you can buy my fiances duplex in T...</td>\n",
       "      <td>buy fiance duplex Terwillegar</td>\n",
       "      <td>0.00</td>\n",
       "    </tr>\n",
       "    <tr>\n",
       "      <th>770</th>\n",
       "      <td>@apleaforaaron i could really eat some cheese ...</td>\n",
       "      <td>could really eat cheese hankering austrian smo...</td>\n",
       "      <td>0.20</td>\n",
       "    </tr>\n",
       "    <tr>\n",
       "      <th>771</th>\n",
       "      <td>@ddlovato I am so FUCKING jealous of you girl....</td>\n",
       "      <td>FUCKING jealous girl  fun though xxx</td>\n",
       "      <td>-0.15</td>\n",
       "    </tr>\n",
       "    <tr>\n",
       "      <th>772</th>\n",
       "      <td>@ThaStevieG my bunnys name was Lucy  you can g...</td>\n",
       "      <td>bunny name Lucy go ahead guess named lmao</td>\n",
       "      <td>0.60</td>\n",
       "    </tr>\n",
       "    <tr>\n",
       "      <th>773</th>\n",
       "      <td>@pixelpipe any updates for iPhone OS 3.0 yet? ...</td>\n",
       "      <td>update iPhone OS 3  0 yet  miss guy</td>\n",
       "      <td>0.00</td>\n",
       "    </tr>\n",
       "  </tbody>\n",
       "</table>\n",
       "<p>774 rows × 3 columns</p>\n",
       "</div>"
      ],
      "text/plain": [
       "                                                  text  \\\n",
       "0    is upset that he can't update his Facebook by ...   \n",
       "1    @Kenichan I dived many times for the ball. Man...   \n",
       "2      my whole body feels itchy and like its on fire    \n",
       "3                        @Kwesidei not the whole crew    \n",
       "4                                          Need a hug    \n",
       "..                                                 ...   \n",
       "769  @lisaholmes you can buy my fiances duplex in T...   \n",
       "770  @apleaforaaron i could really eat some cheese ...   \n",
       "771  @ddlovato I am so FUCKING jealous of you girl....   \n",
       "772  @ThaStevieG my bunnys name was Lucy  you can g...   \n",
       "773  @pixelpipe any updates for iPhone OS 3.0 yet? ...   \n",
       "\n",
       "                                      tweets_transform  polarity  \n",
       "0    upset  update Facebook texting  might cry resu...      0.00  \n",
       "1    dived many time ball  Managed save 50 rest go ...      0.50  \n",
       "2                      whole body feel itchy like fire      0.20  \n",
       "3                                           whole crew      0.20  \n",
       "4                                             Need hug      0.00  \n",
       "..                                                 ...       ...  \n",
       "769                      buy fiance duplex Terwillegar      0.00  \n",
       "770  could really eat cheese hankering austrian smo...      0.20  \n",
       "771               FUCKING jealous girl  fun though xxx     -0.15  \n",
       "772          bunny name Lucy go ahead guess named lmao      0.60  \n",
       "773                update iPhone OS 3  0 yet  miss guy      0.00  \n",
       "\n",
       "[774 rows x 3 columns]"
      ]
     },
     "execution_count": 12,
     "metadata": {},
     "output_type": "execute_result"
    }
   ],
   "source": [
    "df['polarity'] = df['tweets_transform'].apply(analisis_sentimiento)\n",
    "df"
   ]
  },
  {
   "cell_type": "markdown",
   "id": "de9a6c1e",
   "metadata": {},
   "source": [
    "Guardamos los tweets con las nuevas columnas en **tweets_polarizados.csv**"
   ]
  },
  {
   "cell_type": "code",
   "execution_count": 13,
   "id": "cb3e7602",
   "metadata": {},
   "outputs": [
    {
     "data": {
      "text/html": [
       "<div>\n",
       "<style scoped>\n",
       "    .dataframe tbody tr th:only-of-type {\n",
       "        vertical-align: middle;\n",
       "    }\n",
       "\n",
       "    .dataframe tbody tr th {\n",
       "        vertical-align: top;\n",
       "    }\n",
       "\n",
       "    .dataframe thead th {\n",
       "        text-align: right;\n",
       "    }\n",
       "</style>\n",
       "<table border=\"1\" class=\"dataframe\">\n",
       "  <thead>\n",
       "    <tr style=\"text-align: right;\">\n",
       "      <th></th>\n",
       "      <th>text</th>\n",
       "      <th>tweets_transform</th>\n",
       "      <th>polarity</th>\n",
       "    </tr>\n",
       "  </thead>\n",
       "  <tbody>\n",
       "    <tr>\n",
       "      <th>0</th>\n",
       "      <td>is upset that he can't update his Facebook by ...</td>\n",
       "      <td>upset  update Facebook texting  might cry resu...</td>\n",
       "      <td>0.00</td>\n",
       "    </tr>\n",
       "    <tr>\n",
       "      <th>1</th>\n",
       "      <td>@Kenichan I dived many times for the ball. Man...</td>\n",
       "      <td>dived many time ball  Managed save 50 rest go ...</td>\n",
       "      <td>0.50</td>\n",
       "    </tr>\n",
       "    <tr>\n",
       "      <th>2</th>\n",
       "      <td>my whole body feels itchy and like its on fire</td>\n",
       "      <td>whole body feel itchy like fire</td>\n",
       "      <td>0.20</td>\n",
       "    </tr>\n",
       "    <tr>\n",
       "      <th>3</th>\n",
       "      <td>@Kwesidei not the whole crew</td>\n",
       "      <td>whole crew</td>\n",
       "      <td>0.20</td>\n",
       "    </tr>\n",
       "    <tr>\n",
       "      <th>4</th>\n",
       "      <td>Need a hug</td>\n",
       "      <td>Need hug</td>\n",
       "      <td>0.00</td>\n",
       "    </tr>\n",
       "    <tr>\n",
       "      <th>...</th>\n",
       "      <td>...</td>\n",
       "      <td>...</td>\n",
       "      <td>...</td>\n",
       "    </tr>\n",
       "    <tr>\n",
       "      <th>769</th>\n",
       "      <td>@lisaholmes you can buy my fiances duplex in T...</td>\n",
       "      <td>buy fiance duplex Terwillegar</td>\n",
       "      <td>0.00</td>\n",
       "    </tr>\n",
       "    <tr>\n",
       "      <th>770</th>\n",
       "      <td>@apleaforaaron i could really eat some cheese ...</td>\n",
       "      <td>could really eat cheese hankering austrian smo...</td>\n",
       "      <td>0.20</td>\n",
       "    </tr>\n",
       "    <tr>\n",
       "      <th>771</th>\n",
       "      <td>@ddlovato I am so FUCKING jealous of you girl....</td>\n",
       "      <td>FUCKING jealous girl  fun though xxx</td>\n",
       "      <td>-0.15</td>\n",
       "    </tr>\n",
       "    <tr>\n",
       "      <th>772</th>\n",
       "      <td>@ThaStevieG my bunnys name was Lucy  you can g...</td>\n",
       "      <td>bunny name Lucy go ahead guess named lmao</td>\n",
       "      <td>0.60</td>\n",
       "    </tr>\n",
       "    <tr>\n",
       "      <th>773</th>\n",
       "      <td>@pixelpipe any updates for iPhone OS 3.0 yet? ...</td>\n",
       "      <td>update iPhone OS 3  0 yet  miss guy</td>\n",
       "      <td>0.00</td>\n",
       "    </tr>\n",
       "  </tbody>\n",
       "</table>\n",
       "<p>774 rows × 3 columns</p>\n",
       "</div>"
      ],
      "text/plain": [
       "                                                  text  \\\n",
       "0    is upset that he can't update his Facebook by ...   \n",
       "1    @Kenichan I dived many times for the ball. Man...   \n",
       "2      my whole body feels itchy and like its on fire    \n",
       "3                        @Kwesidei not the whole crew    \n",
       "4                                          Need a hug    \n",
       "..                                                 ...   \n",
       "769  @lisaholmes you can buy my fiances duplex in T...   \n",
       "770  @apleaforaaron i could really eat some cheese ...   \n",
       "771  @ddlovato I am so FUCKING jealous of you girl....   \n",
       "772  @ThaStevieG my bunnys name was Lucy  you can g...   \n",
       "773  @pixelpipe any updates for iPhone OS 3.0 yet? ...   \n",
       "\n",
       "                                      tweets_transform  polarity  \n",
       "0    upset  update Facebook texting  might cry resu...      0.00  \n",
       "1    dived many time ball  Managed save 50 rest go ...      0.50  \n",
       "2                      whole body feel itchy like fire      0.20  \n",
       "3                                           whole crew      0.20  \n",
       "4                                             Need hug      0.00  \n",
       "..                                                 ...       ...  \n",
       "769                      buy fiance duplex Terwillegar      0.00  \n",
       "770  could really eat cheese hankering austrian smo...      0.20  \n",
       "771               FUCKING jealous girl  fun though xxx     -0.15  \n",
       "772          bunny name Lucy go ahead guess named lmao      0.60  \n",
       "773                update iPhone OS 3  0 yet  miss guy      0.00  \n",
       "\n",
       "[774 rows x 3 columns]"
      ]
     },
     "execution_count": 13,
     "metadata": {},
     "output_type": "execute_result"
    }
   ],
   "source": [
    "df.to_csv('tweets_polarizados.csv', sep=',', index=False)\n",
    "df"
   ]
  },
  {
   "cell_type": "markdown",
   "id": "0ccfc383",
   "metadata": {},
   "source": [
    "Para asignar una etiqueta correspondiente al sentimiento de cada tweet, dividimos el rango de polaridad, que va desde -1 hasta 1, en cinco subrangos iguales. De esta manera, podemos categorizar cada tweet según su sentimiento y asignarle la etiqueta adecuada. Guardamos los tweets etiquetados en **tweets_etiquetados.csv**"
   ]
  },
  {
   "cell_type": "code",
   "execution_count": 14,
   "id": "3a880faf",
   "metadata": {},
   "outputs": [],
   "source": [
    "rangos = [(-1, -0.6), (-0.6, -0.2), (-0.2, 0.2), (0.2, 0.6), (0.6, 1)]\n",
    "etiquetas = ['Hater', 'Molesto', 'Neutro', 'Contento', 'Muy Feliz']\n",
    "\n",
    "data = []\n",
    "with open('tweets_polarizados.csv', 'r') as file:\n",
    "    reader = csv.reader(file)\n",
    "    for row in reader:\n",
    "        data.append(row)\n",
    "        \n",
    "with open('tweets_etiquetados.csv', 'w', newline='') as file:\n",
    "    writer = csv.writer(file)\n",
    "\n",
    "    # Iterar sobre los datos y asignar las etiquetas correspondientes\n",
    "    for row in data:\n",
    "        try:\n",
    "            value = float(row[-1])  # Convertir a valor numérico\n",
    "            for i, (start, end) in enumerate(rangos):\n",
    "                if start <= value < end:\n",
    "                    row[-1] = etiquetas[i]\n",
    "                    break\n",
    "        except ValueError:\n",
    "            # Manejo de excepción para valores no numéricos\n",
    "            row[-1] = 'etiqueta'\n",
    "\n",
    "        writer.writerow(row)"
   ]
  },
  {
   "cell_type": "markdown",
   "id": "63b67ae8",
   "metadata": {},
   "source": [
    "Durante el proceso de polarización, algunos tweets no han recibido una asignación de valor. Por lo tanto, tendremos tweets que no han sido etiquetados y que deberemos eliminar. En primer lugar, verificamos la cantidad de tweets inválidos."
   ]
  },
  {
   "cell_type": "code",
   "execution_count": 73,
   "id": "0a37ac4b",
   "metadata": {},
   "outputs": [
    {
     "name": "stdout",
     "output_type": "stream",
     "text": [
      "Número de filas no válidas: 18\n"
     ]
    }
   ],
   "source": [
    "#Cuantas filas no están etiquetadas\n",
    "with open('tweets_etiquetados.csv', 'r') as archivo_csv:\n",
    "    lector_csv = csv.reader(archivo_csv)\n",
    "\n",
    "    # Inicializa el contador de filas no válidas\n",
    "    contador_filas_no_validas = 0\n",
    "\n",
    "    # Itera sobre cada fila del archivo CSV\n",
    "    for fila in lector_csv:\n",
    "        # Obtén el último valor de la fila\n",
    "        ultimo_valor = fila[-1]\n",
    "\n",
    "        # Verifica si el último valor no está en la lista de valores válidos\n",
    "        valores_validos = ['Hater', 'Molesto', 'Neutro', 'Contento', 'Muy Feliz']\n",
    "        if ultimo_valor not in valores_validos:\n",
    "            contador_filas_no_validas += 1\n",
    "\n",
    "# Imprime el resultado\n",
    "print(f\"Número de filas no válidas: {contador_filas_no_validas}\")"
   ]
  },
  {
   "cell_type": "markdown",
   "id": "8d45827e",
   "metadata": {},
   "source": [
    "Dado que la cantidad de tweets inválidos es baja, procedemos a eliminarlos. Y guardamos los tweets en **tweets_etiquetados_bien.csv**"
   ]
  },
  {
   "cell_type": "code",
   "execution_count": 74,
   "id": "3a7e94b4",
   "metadata": {},
   "outputs": [],
   "source": [
    "#Eliminar filas incorrectas\n",
    "with open('tweets_etiquetados.csv', 'r') as archivo_entrada, open('tweets_etiquetados_bien.csv', 'w', newline='') as archivo_salida:\n",
    "    lector_csv = csv.reader(archivo_entrada)\n",
    "    escritor_csv = csv.writer(archivo_salida)\n",
    "\n",
    "    # Lee la primera fila y la escribe en el archivo de salida sin cambios\n",
    "    primera_fila = next(lector_csv)\n",
    "    escritor_csv.writerow(primera_fila)\n",
    "\n",
    "    # Itera sobre cada fila del archivo de entrada\n",
    "    for fila in lector_csv:\n",
    "        # Obtén el último valor de la fila\n",
    "        ultimo_valor = fila[-1]\n",
    "\n",
    "        # Verifica si el último valor está en la lista de valores válidos\n",
    "        valores_validos = ['Hater', 'Molesto', 'Neutro', 'Contento', 'Muy Feliz']\n",
    "        if ultimo_valor in valores_validos:\n",
    "            # Escribe la fila en el archivo de salida\n",
    "            escritor_csv.writerow(fila)"
   ]
  }
 ],
 "metadata": {
  "kernelspec": {
   "display_name": "Python 3 (ipykernel)",
   "language": "python",
   "name": "python3"
  },
  "language_info": {
   "codemirror_mode": {
    "name": "ipython",
    "version": 3
   },
   "file_extension": ".py",
   "mimetype": "text/x-python",
   "name": "python",
   "nbconvert_exporter": "python",
   "pygments_lexer": "ipython3",
   "version": "3.9.13"
  }
 },
 "nbformat": 4,
 "nbformat_minor": 5
}
