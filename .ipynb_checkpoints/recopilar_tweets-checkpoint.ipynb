{
 "cells": [
  {
   "cell_type": "code",
   "execution_count": 15,
   "id": "93ea48c1",
   "metadata": {},
   "outputs": [
    {
     "name": "stdout",
     "output_type": "stream",
     "text": [
      "Requirement already satisfied: TextBlob in c:\\users\\guill\\anaconda3\\lib\\site-packages (0.17.1)\n",
      "Requirement already satisfied: nltk>=3.1 in c:\\users\\guill\\anaconda3\\lib\\site-packages (from TextBlob) (3.7)\n",
      "Requirement already satisfied: regex>=2021.8.3 in c:\\users\\guill\\anaconda3\\lib\\site-packages (from nltk>=3.1->TextBlob) (2022.7.9)\n",
      "Requirement already satisfied: click in c:\\users\\guill\\anaconda3\\lib\\site-packages (from nltk>=3.1->TextBlob) (8.0.4)\n",
      "Requirement already satisfied: joblib in c:\\users\\guill\\anaconda3\\lib\\site-packages (from nltk>=3.1->TextBlob) (1.1.0)\n",
      "Requirement already satisfied: tqdm in c:\\users\\guill\\anaconda3\\lib\\site-packages (from nltk>=3.1->TextBlob) (4.64.1)\n",
      "Requirement already satisfied: colorama in c:\\users\\guill\\anaconda3\\lib\\site-packages (from click->nltk>=3.1->TextBlob) (0.4.5)\n",
      "Note: you may need to restart the kernel to use updated packages.\n"
     ]
    }
   ],
   "source": [
    "pip install TextBlob"
   ]
  },
  {
   "cell_type": "code",
   "execution_count": 51,
   "id": "11091a3d",
   "metadata": {},
   "outputs": [
    {
     "name": "stderr",
     "output_type": "stream",
     "text": [
      "[nltk_data] Downloading package stopwords to\n",
      "[nltk_data]     C:\\Users\\guill\\AppData\\Roaming\\nltk_data...\n",
      "[nltk_data]   Package stopwords is already up-to-date!\n"
     ]
    },
    {
     "data": {
      "text/plain": [
       "True"
      ]
     },
     "execution_count": 51,
     "metadata": {},
     "output_type": "execute_result"
    }
   ],
   "source": [
    "import csv\n",
    "import nltk\n",
    "from nltk .corpus import stopwords\n",
    "from nltk import word_tokenize\n",
    "from textblob import TextBlob\n",
    "import string\n",
    "import re\n",
    "import pandas as pd\n",
    "nltk.download('stopwords')"
   ]
  },
  {
   "cell_type": "code",
   "execution_count": 52,
   "id": "a7ff44a8",
   "metadata": {},
   "outputs": [
    {
     "data": {
      "text/html": [
       "<div>\n",
       "<style scoped>\n",
       "    .dataframe tbody tr th:only-of-type {\n",
       "        vertical-align: middle;\n",
       "    }\n",
       "\n",
       "    .dataframe tbody tr th {\n",
       "        vertical-align: top;\n",
       "    }\n",
       "\n",
       "    .dataframe thead th {\n",
       "        text-align: right;\n",
       "    }\n",
       "</style>\n",
       "<table border=\"1\" class=\"dataframe\">\n",
       "  <thead>\n",
       "    <tr style=\"text-align: right;\">\n",
       "      <th></th>\n",
       "      <th>text</th>\n",
       "    </tr>\n",
       "  </thead>\n",
       "  <tbody>\n",
       "    <tr>\n",
       "      <th>0</th>\n",
       "      <td>is upset that he can't update his Facebook by ...</td>\n",
       "    </tr>\n",
       "    <tr>\n",
       "      <th>1</th>\n",
       "      <td>@Kenichan I dived many times for the ball. Man...</td>\n",
       "    </tr>\n",
       "    <tr>\n",
       "      <th>2</th>\n",
       "      <td>my whole body feels itchy and like its on fire...</td>\n",
       "    </tr>\n",
       "    <tr>\n",
       "      <th>3</th>\n",
       "      <td>@Kwesidei not the whole crew ;;;;;;</td>\n",
       "    </tr>\n",
       "    <tr>\n",
       "      <th>4</th>\n",
       "      <td>Need a hug ;;;;;;</td>\n",
       "    </tr>\n",
       "    <tr>\n",
       "      <th>5</th>\n",
       "      <td>@Tatiana_K nope they didn't have it ;;;;;;</td>\n",
       "    </tr>\n",
       "    <tr>\n",
       "      <th>6</th>\n",
       "      <td>@twittera que me muera ? ;;;;;;</td>\n",
       "    </tr>\n",
       "    <tr>\n",
       "      <th>7</th>\n",
       "      <td>spring break in plain city... it's snowing ;;;;;;</td>\n",
       "    </tr>\n",
       "    <tr>\n",
       "      <th>8</th>\n",
       "      <td>I just re-pierced my ears ;;;;;;</td>\n",
       "    </tr>\n",
       "    <tr>\n",
       "      <th>9</th>\n",
       "      <td>@caregiving I couldn't bear to watch it.  And ...</td>\n",
       "    </tr>\n",
       "  </tbody>\n",
       "</table>\n",
       "</div>"
      ],
      "text/plain": [
       "                                                text\n",
       "0  is upset that he can't update his Facebook by ...\n",
       "1  @Kenichan I dived many times for the ball. Man...\n",
       "2  my whole body feels itchy and like its on fire...\n",
       "3                @Kwesidei not the whole crew ;;;;;;\n",
       "4                                  Need a hug ;;;;;;\n",
       "5         @Tatiana_K nope they didn't have it ;;;;;;\n",
       "6                    @twittera que me muera ? ;;;;;;\n",
       "7  spring break in plain city... it's snowing ;;;;;;\n",
       "8                   I just re-pierced my ears ;;;;;;\n",
       "9  @caregiving I couldn't bear to watch it.  And ..."
      ]
     },
     "execution_count": 52,
     "metadata": {},
     "output_type": "execute_result"
    }
   ],
   "source": [
    "df = pd.read_csv('tweets.csv', header=None, names=['text'], on_bad_lines='skip', encoding= 'unicode_escape')\n",
    "df.head(10)"
   ]
  },
  {
   "cell_type": "code",
   "execution_count": 53,
   "id": "7857041c",
   "metadata": {},
   "outputs": [],
   "source": [
    "# Creamos la funcion 'limpiar_texto' que va a remover las stopwords y otros elementos  \n",
    "def limpiar_texto(text):  \n",
    "    stopWords = set(stopwords.words('english'))\n",
    "    text = str(text)\n",
    "    text = re.sub(r'@[A-Za-z0-9]+', ' ', text) #Elimina las menciones\n",
    "    text = re.sub(r'RT[|\\s]', ' ', text) # Elimina los RTs\n",
    "    text = re.sub(r'#', ' ', text) #Elimina los hashtags\n",
    "    text = re.sub(r'https?:\\/\\/\\S+', ' ', text) #Elimina los enlaces\n",
    "\n",
    "    pattern = r'''(?x)                 # Activa la opcion que permite expresiones regulares\n",
    "               (?:[A-Z]\\.)+            # abreviaturas\n",
    "               | \\w+(?:-\\w+)*          # Palabras con guiones externos que pueden ser opcionales\n",
    "               | \\$?\\d+(?:\\.\\d+)?%?    # Monedas y porcentajes\n",
    "               | \\.\\.\\.                # Elipsis\n",
    "              | [][.,;\"'?():-_`]       #Tokens separados\n",
    "               '''\n",
    "    words = nltk.regexp_tokenize(text, pattern)\n",
    "    delete_punt = re.compile('[%s]' % re.escape(string.punctuation)) # Elimina signos de puntuacion\n",
    "    stripped = [delete_punt.sub('', w) for w in words]\n",
    "    delete_stopwords = [w for w in stripped if  w.lower() not in stopWords] # Elimina las stopwords\n",
    "\n",
    "    return (\" \".join(delete_stopwords))"
   ]
  },
  {
   "cell_type": "code",
   "execution_count": 54,
   "id": "37350697",
   "metadata": {},
   "outputs": [
    {
     "data": {
      "text/html": [
       "<div>\n",
       "<style scoped>\n",
       "    .dataframe tbody tr th:only-of-type {\n",
       "        vertical-align: middle;\n",
       "    }\n",
       "\n",
       "    .dataframe tbody tr th {\n",
       "        vertical-align: top;\n",
       "    }\n",
       "\n",
       "    .dataframe thead th {\n",
       "        text-align: right;\n",
       "    }\n",
       "</style>\n",
       "<table border=\"1\" class=\"dataframe\">\n",
       "  <thead>\n",
       "    <tr style=\"text-align: right;\">\n",
       "      <th></th>\n",
       "      <th>is upset that he can't update his Facebook by texting it... and might cry as a result  School today also. Blah!;;;;;;</th>\n",
       "      <th>tweets_transform</th>\n",
       "    </tr>\n",
       "  </thead>\n",
       "  <tbody>\n",
       "    <tr>\n",
       "      <th>0</th>\n",
       "      <td>@Kenichan I dived many times for the ball. Man...</td>\n",
       "      <td>NaN</td>\n",
       "    </tr>\n",
       "    <tr>\n",
       "      <th>1</th>\n",
       "      <td>my whole body feels itchy and like its on fire...</td>\n",
       "      <td>NaN</td>\n",
       "    </tr>\n",
       "    <tr>\n",
       "      <th>2</th>\n",
       "      <td>@Kwesidei not the whole crew ;;;;;;</td>\n",
       "      <td>NaN</td>\n",
       "    </tr>\n",
       "    <tr>\n",
       "      <th>3</th>\n",
       "      <td>Need a hug ;;;;;;</td>\n",
       "      <td>NaN</td>\n",
       "    </tr>\n",
       "    <tr>\n",
       "      <th>4</th>\n",
       "      <td>@Tatiana_K nope they didn't have it ;;;;;;</td>\n",
       "      <td>NaN</td>\n",
       "    </tr>\n",
       "    <tr>\n",
       "      <th>...</th>\n",
       "      <td>...</td>\n",
       "      <td>...</td>\n",
       "    </tr>\n",
       "    <tr>\n",
       "      <th>768</th>\n",
       "      <td>@lisaholmes you can buy my fiances duplex in T...</td>\n",
       "      <td>NaN</td>\n",
       "    </tr>\n",
       "    <tr>\n",
       "      <th>769</th>\n",
       "      <td>@apleaforaaron i could really eat some cheese ...</td>\n",
       "      <td>NaN</td>\n",
       "    </tr>\n",
       "    <tr>\n",
       "      <th>770</th>\n",
       "      <td>@ddlovato I am so FUCKING jealous of you girl....</td>\n",
       "      <td>NaN</td>\n",
       "    </tr>\n",
       "    <tr>\n",
       "      <th>771</th>\n",
       "      <td>@ThaStevieG my bunnys name was Lucy  you can g...</td>\n",
       "      <td>NaN</td>\n",
       "    </tr>\n",
       "    <tr>\n",
       "      <th>772</th>\n",
       "      <td>@pixelpipe any updates for iPhone OS 3.0 yet? ...</td>\n",
       "      <td>NaN</td>\n",
       "    </tr>\n",
       "  </tbody>\n",
       "</table>\n",
       "<p>773 rows × 2 columns</p>\n",
       "</div>"
      ],
      "text/plain": [
       "    is upset that he can't update his Facebook by texting it... and might cry as a result  School today also. Blah!;;;;;;  \\\n",
       "0    @Kenichan I dived many times for the ball. Man...                                                                      \n",
       "1    my whole body feels itchy and like its on fire...                                                                      \n",
       "2                  @Kwesidei not the whole crew ;;;;;;                                                                      \n",
       "3                                    Need a hug ;;;;;;                                                                      \n",
       "4           @Tatiana_K nope they didn't have it ;;;;;;                                                                      \n",
       "..                                                 ...                                                                      \n",
       "768  @lisaholmes you can buy my fiances duplex in T...                                                                      \n",
       "769  @apleaforaaron i could really eat some cheese ...                                                                      \n",
       "770  @ddlovato I am so FUCKING jealous of you girl....                                                                      \n",
       "771  @ThaStevieG my bunnys name was Lucy  you can g...                                                                      \n",
       "772  @pixelpipe any updates for iPhone OS 3.0 yet? ...                                                                      \n",
       "\n",
       "    tweets_transform  \n",
       "0                NaN  \n",
       "1                NaN  \n",
       "2                NaN  \n",
       "3                NaN  \n",
       "4                NaN  \n",
       "..               ...  \n",
       "768              NaN  \n",
       "769              NaN  \n",
       "770              NaN  \n",
       "771              NaN  \n",
       "772              NaN  \n",
       "\n",
       "[773 rows x 2 columns]"
      ]
     },
     "execution_count": 54,
     "metadata": {},
     "output_type": "execute_result"
    }
   ],
   "source": [
    "df['tweets_transform'] = df['text'].apply(limpiar_texto)\n",
    "data"
   ]
  },
  {
   "cell_type": "code",
   "execution_count": null,
   "id": "13ddcdc2",
   "metadata": {},
   "outputs": [],
   "source": [
    "#Con esta función, mediante la libreria TextBlob analizamos la polaridad. Este valor, que oscila entre 1 y -1 nos indica que\n",
    "#el tweet es positivo si su valor es cercano al 1, neutro si el valor es 0 y negativo si su valor es cercano al -1.\n",
    "def analisis_sentimiento(text):\n",
    "  text = str(text)\n",
    "  if text != '':\n",
    "    analisis = TextBlob(text)\n",
    "    if analisis.detect_language() == 'es': \n",
    "      analisis = analisis.translate(from_lang='es', to='en').sentiment\n",
    "      sentiment = analisis.polarity\n",
    "      return sentiment"
   ]
  },
  {
   "cell_type": "code",
   "execution_count": null,
   "id": "4a175f4c",
   "metadata": {},
   "outputs": [],
   "source": [
    "df['polarity'] = df['limpiar_texto'].apply(analisis_sentimiento)\n",
    "df"
   ]
  }
 ],
 "metadata": {
  "kernelspec": {
   "display_name": "Python 3 (ipykernel)",
   "language": "python",
   "name": "python3"
  },
  "language_info": {
   "codemirror_mode": {
    "name": "ipython",
    "version": 3
   },
   "file_extension": ".py",
   "mimetype": "text/x-python",
   "name": "python",
   "nbconvert_exporter": "python",
   "pygments_lexer": "ipython3",
   "version": "3.9.13"
  }
 },
 "nbformat": 4,
 "nbformat_minor": 5
}
